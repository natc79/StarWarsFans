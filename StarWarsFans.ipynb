{
 "cells": [
  {
   "cell_type": "markdown",
   "metadata": {},
   "source": [
    "# Star Wars Fans (2014)\n",
    "\n",
    "This data contains 835 responses from an online survey via SurveyMonkey collected in 2014 by FiveThirtyEight to answer questions regarding which Star Wars movies people liked the best and to assess how many people would call themselves a fan of the Star Wars Franchise.  This code cleans up the data and computes some basic statistics.  The results of this survey should be viewed with caution due to the selective nature of online surveys.  The direction of the bias depends on how highly correlated being a fan of the Star Wars Franchise is with income and educational characteristics."
   ]
  },
  {
   "cell_type": "code",
   "execution_count": 42,
   "metadata": {
    "collapsed": false
   },
   "outputs": [
    {
     "data": {
      "text/html": [
       "<div>\n",
       "<table border=\"1\" class=\"dataframe\">\n",
       "  <thead>\n",
       "    <tr style=\"text-align: right;\">\n",
       "      <th></th>\n",
       "      <th>RespondentID</th>\n",
       "      <th>Have you seen any of the 6 films in the Star Wars franchise?</th>\n",
       "      <th>Do you consider yourself to be a fan of the Star Wars film franchise?</th>\n",
       "      <th>Which of the following Star Wars films have you seen? Please select all that apply.</th>\n",
       "      <th>Unnamed: 4</th>\n",
       "      <th>Unnamed: 5</th>\n",
       "      <th>Unnamed: 6</th>\n",
       "      <th>Unnamed: 7</th>\n",
       "      <th>Unnamed: 8</th>\n",
       "      <th>Please rank the Star Wars films in order of preference with 1 being your favorite film in the franchise and 6 being your least favorite film.</th>\n",
       "      <th>...</th>\n",
       "      <th>Unnamed: 28</th>\n",
       "      <th>Which character shot first?</th>\n",
       "      <th>Are you familiar with the Expanded Universe?</th>\n",
       "      <th>Do you consider yourself to be a fan of the Expanded Universe?ÂÃ¦</th>\n",
       "      <th>Do you consider yourself to be a fan of the Star Trek franchise?</th>\n",
       "      <th>Gender</th>\n",
       "      <th>Age</th>\n",
       "      <th>Household Income</th>\n",
       "      <th>Education</th>\n",
       "      <th>Location (Census Region)</th>\n",
       "    </tr>\n",
       "  </thead>\n",
       "  <tbody>\n",
       "    <tr>\n",
       "      <th>0</th>\n",
       "      <td>NaN</td>\n",
       "      <td>Response</td>\n",
       "      <td>Response</td>\n",
       "      <td>Star Wars: Episode I  The Phantom Menace</td>\n",
       "      <td>Star Wars: Episode II  Attack of the Clones</td>\n",
       "      <td>Star Wars: Episode III  Revenge of the Sith</td>\n",
       "      <td>Star Wars: Episode IV  A New Hope</td>\n",
       "      <td>Star Wars: Episode V The Empire Strikes Back</td>\n",
       "      <td>Star Wars: Episode VI Return of the Jedi</td>\n",
       "      <td>Star Wars: Episode I  The Phantom Menace</td>\n",
       "      <td>...</td>\n",
       "      <td>Yoda</td>\n",
       "      <td>Response</td>\n",
       "      <td>Response</td>\n",
       "      <td>Response</td>\n",
       "      <td>Response</td>\n",
       "      <td>Response</td>\n",
       "      <td>Response</td>\n",
       "      <td>Response</td>\n",
       "      <td>Response</td>\n",
       "      <td>Response</td>\n",
       "    </tr>\n",
       "    <tr>\n",
       "      <th>1</th>\n",
       "      <td>3.292880e+09</td>\n",
       "      <td>Yes</td>\n",
       "      <td>Yes</td>\n",
       "      <td>Star Wars: Episode I  The Phantom Menace</td>\n",
       "      <td>Star Wars: Episode II  Attack of the Clones</td>\n",
       "      <td>Star Wars: Episode III  Revenge of the Sith</td>\n",
       "      <td>Star Wars: Episode IV  A New Hope</td>\n",
       "      <td>Star Wars: Episode V The Empire Strikes Back</td>\n",
       "      <td>Star Wars: Episode VI Return of the Jedi</td>\n",
       "      <td>3</td>\n",
       "      <td>...</td>\n",
       "      <td>Very favorably</td>\n",
       "      <td>I don't understand this question</td>\n",
       "      <td>Yes</td>\n",
       "      <td>No</td>\n",
       "      <td>No</td>\n",
       "      <td>Male</td>\n",
       "      <td>18-29</td>\n",
       "      <td>NaN</td>\n",
       "      <td>High school degree</td>\n",
       "      <td>South Atlantic</td>\n",
       "    </tr>\n",
       "    <tr>\n",
       "      <th>2</th>\n",
       "      <td>3.292880e+09</td>\n",
       "      <td>No</td>\n",
       "      <td>NaN</td>\n",
       "      <td>NaN</td>\n",
       "      <td>NaN</td>\n",
       "      <td>NaN</td>\n",
       "      <td>NaN</td>\n",
       "      <td>NaN</td>\n",
       "      <td>NaN</td>\n",
       "      <td>NaN</td>\n",
       "      <td>...</td>\n",
       "      <td>NaN</td>\n",
       "      <td>NaN</td>\n",
       "      <td>NaN</td>\n",
       "      <td>NaN</td>\n",
       "      <td>Yes</td>\n",
       "      <td>Male</td>\n",
       "      <td>18-29</td>\n",
       "      <td>$0 - $24,999</td>\n",
       "      <td>Bachelor degree</td>\n",
       "      <td>West South Central</td>\n",
       "    </tr>\n",
       "    <tr>\n",
       "      <th>3</th>\n",
       "      <td>3.292765e+09</td>\n",
       "      <td>Yes</td>\n",
       "      <td>No</td>\n",
       "      <td>Star Wars: Episode I  The Phantom Menace</td>\n",
       "      <td>Star Wars: Episode II  Attack of the Clones</td>\n",
       "      <td>Star Wars: Episode III  Revenge of the Sith</td>\n",
       "      <td>NaN</td>\n",
       "      <td>NaN</td>\n",
       "      <td>NaN</td>\n",
       "      <td>1</td>\n",
       "      <td>...</td>\n",
       "      <td>Unfamiliar (N/A)</td>\n",
       "      <td>I don't understand this question</td>\n",
       "      <td>No</td>\n",
       "      <td>NaN</td>\n",
       "      <td>No</td>\n",
       "      <td>Male</td>\n",
       "      <td>18-29</td>\n",
       "      <td>$0 - $24,999</td>\n",
       "      <td>High school degree</td>\n",
       "      <td>West North Central</td>\n",
       "    </tr>\n",
       "    <tr>\n",
       "      <th>4</th>\n",
       "      <td>3.292763e+09</td>\n",
       "      <td>Yes</td>\n",
       "      <td>Yes</td>\n",
       "      <td>Star Wars: Episode I  The Phantom Menace</td>\n",
       "      <td>Star Wars: Episode II  Attack of the Clones</td>\n",
       "      <td>Star Wars: Episode III  Revenge of the Sith</td>\n",
       "      <td>Star Wars: Episode IV  A New Hope</td>\n",
       "      <td>Star Wars: Episode V The Empire Strikes Back</td>\n",
       "      <td>Star Wars: Episode VI Return of the Jedi</td>\n",
       "      <td>5</td>\n",
       "      <td>...</td>\n",
       "      <td>Very favorably</td>\n",
       "      <td>I don't understand this question</td>\n",
       "      <td>No</td>\n",
       "      <td>NaN</td>\n",
       "      <td>Yes</td>\n",
       "      <td>Male</td>\n",
       "      <td>18-29</td>\n",
       "      <td>$100,000 - $149,999</td>\n",
       "      <td>Some college or Associate degree</td>\n",
       "      <td>West North Central</td>\n",
       "    </tr>\n",
       "  </tbody>\n",
       "</table>\n",
       "<p>5 rows × 38 columns</p>\n",
       "</div>"
      ],
      "text/plain": [
       "   RespondentID Have you seen any of the 6 films in the Star Wars franchise?  \\\n",
       "0           NaN                                           Response             \n",
       "1  3.292880e+09                                                Yes             \n",
       "2  3.292880e+09                                                 No             \n",
       "3  3.292765e+09                                                Yes             \n",
       "4  3.292763e+09                                                Yes             \n",
       "\n",
       "  Do you consider yourself to be a fan of the Star Wars film franchise?  \\\n",
       "0                                           Response                      \n",
       "1                                                Yes                      \n",
       "2                                                NaN                      \n",
       "3                                                 No                      \n",
       "4                                                Yes                      \n",
       "\n",
       "  Which of the following Star Wars films have you seen? Please select all that apply.  \\\n",
       "0           Star Wars: Episode I  The Phantom Menace                                    \n",
       "1           Star Wars: Episode I  The Phantom Menace                                    \n",
       "2                                                NaN                                    \n",
       "3           Star Wars: Episode I  The Phantom Menace                                    \n",
       "4           Star Wars: Episode I  The Phantom Menace                                    \n",
       "\n",
       "                                    Unnamed: 4  \\\n",
       "0  Star Wars: Episode II  Attack of the Clones   \n",
       "1  Star Wars: Episode II  Attack of the Clones   \n",
       "2                                          NaN   \n",
       "3  Star Wars: Episode II  Attack of the Clones   \n",
       "4  Star Wars: Episode II  Attack of the Clones   \n",
       "\n",
       "                                    Unnamed: 5  \\\n",
       "0  Star Wars: Episode III  Revenge of the Sith   \n",
       "1  Star Wars: Episode III  Revenge of the Sith   \n",
       "2                                          NaN   \n",
       "3  Star Wars: Episode III  Revenge of the Sith   \n",
       "4  Star Wars: Episode III  Revenge of the Sith   \n",
       "\n",
       "                          Unnamed: 6  \\\n",
       "0  Star Wars: Episode IV  A New Hope   \n",
       "1  Star Wars: Episode IV  A New Hope   \n",
       "2                                NaN   \n",
       "3                                NaN   \n",
       "4  Star Wars: Episode IV  A New Hope   \n",
       "\n",
       "                                     Unnamed: 7  \\\n",
       "0  Star Wars: Episode V The Empire Strikes Back   \n",
       "1  Star Wars: Episode V The Empire Strikes Back   \n",
       "2                                           NaN   \n",
       "3                                           NaN   \n",
       "4  Star Wars: Episode V The Empire Strikes Back   \n",
       "\n",
       "                                 Unnamed: 8  \\\n",
       "0  Star Wars: Episode VI Return of the Jedi   \n",
       "1  Star Wars: Episode VI Return of the Jedi   \n",
       "2                                       NaN   \n",
       "3                                       NaN   \n",
       "4  Star Wars: Episode VI Return of the Jedi   \n",
       "\n",
       "  Please rank the Star Wars films in order of preference with 1 being your favorite film in the franchise and 6 being your least favorite film.  \\\n",
       "0           Star Wars: Episode I  The Phantom Menace                                                                                              \n",
       "1                                                  3                                                                                              \n",
       "2                                                NaN                                                                                              \n",
       "3                                                  1                                                                                              \n",
       "4                                                  5                                                                                              \n",
       "\n",
       "            ...                  Unnamed: 28  \\\n",
       "0           ...                         Yoda   \n",
       "1           ...               Very favorably   \n",
       "2           ...                          NaN   \n",
       "3           ...             Unfamiliar (N/A)   \n",
       "4           ...               Very favorably   \n",
       "\n",
       "        Which character shot first?  \\\n",
       "0                          Response   \n",
       "1  I don't understand this question   \n",
       "2                               NaN   \n",
       "3  I don't understand this question   \n",
       "4  I don't understand this question   \n",
       "\n",
       "  Are you familiar with the Expanded Universe?  \\\n",
       "0                                     Response   \n",
       "1                                          Yes   \n",
       "2                                          NaN   \n",
       "3                                           No   \n",
       "4                                           No   \n",
       "\n",
       "  Do you consider yourself to be a fan of the Expanded Universe?ÂÃ¦  \\\n",
       "0                                           Response                   \n",
       "1                                                 No                   \n",
       "2                                                NaN                   \n",
       "3                                                NaN                   \n",
       "4                                                NaN                   \n",
       "\n",
       "  Do you consider yourself to be a fan of the Star Trek franchise?    Gender  \\\n",
       "0                                           Response                Response   \n",
       "1                                                 No                    Male   \n",
       "2                                                Yes                    Male   \n",
       "3                                                 No                    Male   \n",
       "4                                                Yes                    Male   \n",
       "\n",
       "        Age     Household Income                         Education  \\\n",
       "0  Response             Response                          Response   \n",
       "1     18-29                  NaN                High school degree   \n",
       "2     18-29         $0 - $24,999                   Bachelor degree   \n",
       "3     18-29         $0 - $24,999                High school degree   \n",
       "4     18-29  $100,000 - $149,999  Some college or Associate degree   \n",
       "\n",
       "  Location (Census Region)  \n",
       "0                 Response  \n",
       "1           South Atlantic  \n",
       "2       West South Central  \n",
       "3       West North Central  \n",
       "4       West North Central  \n",
       "\n",
       "[5 rows x 38 columns]"
      ]
     },
     "execution_count": 42,
     "metadata": {},
     "output_type": "execute_result"
    },
    {
     "data": {
      "text/plain": [
       "Index(['RespondentID',\n",
       "       'Have you seen any of the 6 films in the Star Wars franchise?',\n",
       "       'Do you consider yourself to be a fan of the Star Wars film franchise?',\n",
       "       'Which of the following Star Wars films have you seen? Please select all that apply.',\n",
       "       'Unnamed: 4', 'Unnamed: 5', 'Unnamed: 6', 'Unnamed: 7', 'Unnamed: 8',\n",
       "       'Please rank the Star Wars films in order of preference with 1 being your favorite film in the franchise and 6 being your least favorite film.',\n",
       "       'Unnamed: 10', 'Unnamed: 11', 'Unnamed: 12', 'Unnamed: 13',\n",
       "       'Unnamed: 14',\n",
       "       'Please state whether you view the following characters favorably, unfavorably, or are unfamiliar with him/her.',\n",
       "       'Unnamed: 16', 'Unnamed: 17', 'Unnamed: 18', 'Unnamed: 19',\n",
       "       'Unnamed: 20', 'Unnamed: 21', 'Unnamed: 22', 'Unnamed: 23',\n",
       "       'Unnamed: 24', 'Unnamed: 25', 'Unnamed: 26', 'Unnamed: 27',\n",
       "       'Unnamed: 28', 'Which character shot first?',\n",
       "       'Are you familiar with the Expanded Universe?',\n",
       "       'Do you consider yourself to be a fan of the Expanded Universe?ÂÃ¦',\n",
       "       'Do you consider yourself to be a fan of the Star Trek franchise?',\n",
       "       'Gender', 'Age', 'Household Income', 'Education',\n",
       "       'Location (Census Region)'],\n",
       "      dtype='object')"
      ]
     },
     "execution_count": 42,
     "metadata": {},
     "output_type": "execute_result"
    },
    {
     "data": {
      "text/plain": [
       "(1187, 38)"
      ]
     },
     "execution_count": 42,
     "metadata": {},
     "output_type": "execute_result"
    },
    {
     "name": "stdout",
     "output_type": "stream",
     "text": [
      "(1186, 38)\n"
     ]
    }
   ],
   "source": [
    "#Importing and examining the data\n",
    "import pandas as pd\n",
    "from IPython.core.interactiveshell import InteractiveShell\n",
    "InteractiveShell.ast_node_interactivity = \"all\"\n",
    "\n",
    "star_wars = pd.read_csv(\"star_wars.csv\", encoding=\"ISO-8859-1\")\n",
    "star_wars.head()\n",
    "star_wars.columns\n",
    "star_wars.shape\n",
    "star_wars = star_wars[star_wars[\"RespondentID\"].notnull()]\n",
    "print(star_wars.shape)\n",
    "#only one row was dropped"
   ]
  },
  {
   "cell_type": "code",
   "execution_count": 43,
   "metadata": {
    "collapsed": false
   },
   "outputs": [
    {
     "name": "stdout",
     "output_type": "stream",
     "text": [
      "1     True\n",
      "2    False\n",
      "3     True\n",
      "4     True\n",
      "5     True\n",
      "Name: Have you seen any of the 6 films in the Star Wars franchise?, dtype: bool\n",
      "1     True\n",
      "2      NaN\n",
      "3    False\n",
      "4     True\n",
      "5     True\n",
      "Name: Do you consider yourself to be a fan of the Star Wars film franchise?, dtype: object\n"
     ]
    }
   ],
   "source": [
    "#Cleaning up yes/no columns to turn into boolean functions\n",
    "yes_no = {\"Yes\": True, \"No\": False}\n",
    "qs1 = \"Have you seen any of the 6 films in the Star Wars franchise?\"\n",
    "qs2 = \"Do you consider yourself to be a fan of the Star Wars film franchise?\"\n",
    "star_wars[qs1] = star_wars[qs1].map(yes_no)\n",
    "star_wars[qs2] = star_wars[qs2].map(yes_no)\n",
    "print(star_wars[qs1].head())\n",
    "print(star_wars[qs2].head())"
   ]
  },
  {
   "cell_type": "code",
   "execution_count": 44,
   "metadata": {
    "collapsed": false
   },
   "outputs": [
    {
     "name": "stdout",
     "output_type": "stream",
     "text": [
      "  Which of the following Star Wars films have you seen? Please select all that apply.  \\\n",
      "1                                               True                                    \n",
      "2                                              False                                    \n",
      "3                                               True                                    \n",
      "4                                               True                                    \n",
      "5                                               True                                    \n",
      "\n",
      "  Unnamed: 4 Unnamed: 5 Unnamed: 6 Unnamed: 7 Unnamed: 8  \n",
      "1       True       True       True       True       True  \n",
      "2      False      False      False      False      False  \n",
      "3       True       True      False      False      False  \n",
      "4       True       True       True       True       True  \n",
      "5       True       True       True       True       True  \n",
      "Index(['RespondentID',\n",
      "       'Have you seen any of the 6 films in the Star Wars franchise?',\n",
      "       'Do you consider yourself to be a fan of the Star Wars film franchise?',\n",
      "       'Episode I  The Phantom Menace', 'Episode II  Attack of the Clones',\n",
      "       'Episode III Revenge of the Sith', 'Episode IV A New Hope',\n",
      "       'Episode V The Empire Strikes Back', 'Episode VI Return of the Jedi',\n",
      "       'Please rank the Star Wars films in order of preference with 1 being your favorite film in the franchise and 6 being your least favorite film.',\n",
      "       'Unnamed: 10', 'Unnamed: 11', 'Unnamed: 12', 'Unnamed: 13',\n",
      "       'Unnamed: 14',\n",
      "       'Please state whether you view the following characters favorably, unfavorably, or are unfamiliar with him/her.',\n",
      "       'Unnamed: 16', 'Unnamed: 17', 'Unnamed: 18', 'Unnamed: 19',\n",
      "       'Unnamed: 20', 'Unnamed: 21', 'Unnamed: 22', 'Unnamed: 23',\n",
      "       'Unnamed: 24', 'Unnamed: 25', 'Unnamed: 26', 'Unnamed: 27',\n",
      "       'Unnamed: 28', 'Which character shot first?',\n",
      "       'Are you familiar with the Expanded Universe?',\n",
      "       'Do you consider yourself to be a fan of the Expanded Universe?ÂÃ¦',\n",
      "       'Do you consider yourself to be a fan of the Star Trek franchise?',\n",
      "       'Gender', 'Age', 'Household Income', 'Education',\n",
      "       'Location (Census Region)'],\n",
      "      dtype='object')\n"
     ]
    }
   ],
   "source": [
    "#Cleaning up Checkbox Columns\n",
    "cols = [\"Which of the following Star Wars films have you seen? Please select all that apply.\",\n",
    "       \"Unnamed: 4\",\"Unnamed: 5\",\"Unnamed: 6\",\"Unnamed: 7\",\"Unnamed: 8\"]\n",
    "\n",
    "yes_no_cols = {\n",
    "    \"Star Wars: Episode I  The Phantom Menace\": True,\n",
    "    \"Star Wars: Episode II  Attack of the Clones\": True,\n",
    "    \"Star Wars: Episode III  Revenge of the Sith\": True,\n",
    "    \"Star Wars: Episode IV  A New Hope\": True,\n",
    "    \"Star Wars: Episode V The Empire Strikes Back\": True,\n",
    "    \"Star Wars: Episode VI Return of the Jedi\": True,\n",
    "    \"NaN\": False\n",
    "}\n",
    "\n",
    "renamecols = {\n",
    "    \"Which of the following Star Wars films have you seen? Please select all that apply.\": \"Episode I  The Phantom Menace\",\n",
    "    \"Unnamed: 4\" : \"Episode II  Attack of the Clones\",\n",
    "    \"Unnamed: 5\" : \"Episode III Revenge of the Sith\",\n",
    "    \"Unnamed: 6\" : \"Episode IV A New Hope\",\n",
    "    \"Unnamed: 7\" : \"Episode V The Empire Strikes Back\",\n",
    "    \"Unnamed: 8\" : \"Episode VI Return of the Jedi\"\n",
    "}\n",
    "for c in cols:\n",
    "    star_wars[c]=star_wars[c].map(yes_no_cols)\n",
    "    star_wars[c]=(star_wars[c] == True)\n",
    "\n",
    "print(star_wars[cols].head())\n",
    "star_wars = star_wars.rename(columns = renamecols)\n",
    "print(star_wars.columns)"
   ]
  },
  {
   "cell_type": "code",
   "execution_count": 45,
   "metadata": {
    "collapsed": false
   },
   "outputs": [
    {
     "name": "stdout",
     "output_type": "stream",
     "text": [
      "Index(['RespondentID',\n",
      "       'Have you seen any of the 6 films in the Star Wars franchise?',\n",
      "       'Do you consider yourself to be a fan of the Star Wars film franchise?',\n",
      "       'Episode I  The Phantom Menace', 'Episode II  Attack of the Clones',\n",
      "       'Episode III Revenge of the Sith', 'Episode IV A New Hope',\n",
      "       'Episode V The Empire Strikes Back', 'Episode VI Return of the Jedi',\n",
      "       'Ranking 1', 'Ranking 2', 'Ranking 3', 'Ranking 4', 'Ranking 5',\n",
      "       'Ranking 6',\n",
      "       'Please state whether you view the following characters favorably, unfavorably, or are unfamiliar with him/her.',\n",
      "       'Unnamed: 16', 'Unnamed: 17', 'Unnamed: 18', 'Unnamed: 19',\n",
      "       'Unnamed: 20', 'Unnamed: 21', 'Unnamed: 22', 'Unnamed: 23',\n",
      "       'Unnamed: 24', 'Unnamed: 25', 'Unnamed: 26', 'Unnamed: 27',\n",
      "       'Unnamed: 28', 'Which character shot first?',\n",
      "       'Are you familiar with the Expanded Universe?',\n",
      "       'Do you consider yourself to be a fan of the Expanded Universe?ÂÃ¦',\n",
      "       'Do you consider yourself to be a fan of the Star Trek franchise?',\n",
      "       'Gender', 'Age', 'Household Income', 'Education',\n",
      "       'Location (Census Region)'],\n",
      "      dtype='object')\n"
     ]
    }
   ],
   "source": [
    "#converts columns from 9 up to 14 into a float value\n",
    "star_wars[star_wars.columns[9:15]] = star_wars[star_wars.columns[9:15]].astype(float)\n",
    "new_names = {\n",
    "            'Please rank the Star Wars films in order of preference with 1 being your favorite film in the franchise and 6 being your least favorite film.': \"Ranking 1\",\n",
    "             'Unnamed: 10': \"Ranking 2\", \n",
    "             'Unnamed: 11': \"Ranking 3\",\n",
    "             'Unnamed: 12': \"Ranking 4\",\n",
    "             'Unnamed: 13': \"Ranking 5\", \n",
    "             'Unnamed: 14': \"Ranking 6\"\n",
    "            }\n",
    "star_wars = star_wars.rename(columns = new_names)\n",
    "print(star_wars.columns)"
   ]
  },
  {
   "cell_type": "code",
   "execution_count": 33,
   "metadata": {
    "collapsed": false
   },
   "outputs": [
    {
     "name": "stdout",
     "output_type": "stream",
     "text": [
      "{'Ranking 1': 3.73, 'Ranking 2': 4.09, 'Ranking 3': 4.34, 'Ranking 4': 3.27, 'Ranking 5': 2.51, 'Ranking 6': 3.05}\n"
     ]
    }
   ],
   "source": [
    "#Finding the highest ranked movie \n",
    "%matplotlib inline\n",
    "\n",
    "ranking = [\"Ranking 1\",\"Ranking 2\",\"Ranking 3\",\"Ranking 4\",\"Ranking 5\",\"Ranking 6\"]\n",
    "mean_rank = {}\n",
    "for i in ranking:\n",
    "    mean_rank[i]=round(star_wars[i].mean(),2)\n",
    "print(mean_rank)"
   ]
  },
  {
   "cell_type": "code",
   "execution_count": 46,
   "metadata": {
    "collapsed": false
   },
   "outputs": [
    {
     "data": {
      "text/plain": [
       "<matplotlib.text.Text at 0x2a2da344908>"
      ]
     },
     "execution_count": 46,
     "metadata": {},
     "output_type": "execute_result"
    },
    {
     "data": {
      "text/plain": [
       "[<matplotlib.text.Text at 0x2a2da33fe10>,\n",
       " <matplotlib.text.Text at 0x2a2da344048>,\n",
       " <matplotlib.text.Text at 0x2a2da393390>,\n",
       " <matplotlib.text.Text at 0x2a2da393d68>,\n",
       " <matplotlib.text.Text at 0x2a2da3984a8>,\n",
       " <matplotlib.text.Text at 0x2a2da398e80>]"
      ]
     },
     "execution_count": 46,
     "metadata": {},
     "output_type": "execute_result"
    },
    {
     "data": {
      "text/plain": [
       "<matplotlib.text.Text at 0x2a2d82de6a0>"
      ]
     },
     "execution_count": 46,
     "metadata": {},
     "output_type": "execute_result"
    },
    {
     "data": {
      "text/plain": [
       "<matplotlib.text.Text at 0x2a2da1ef358>"
      ]
     },
     "execution_count": 46,
     "metadata": {},
     "output_type": "execute_result"
    },
    {
     "data": {
      "image/png": "[encoded data removed]",
      "text/plain": [
       "<matplotlib.figure.Figure at 0x2a2d9fa8898>"
      ]
     },
     "metadata": {},
     "output_type": "display_data"
    }
   ],
   "source": [
    "import numpy as np\n",
    "import matplotlib.pyplot as plt\n",
    "\n",
    "movies = [\"I: Phantom Menace\", \"II: Attack of the Clones\", \"III: Revenge of the Sith\", \"IV: A New Hope\", \"V: Empire Strike Back\", \"VI: Return of the Jedi\"]\n",
    "\n",
    "bargraph = star_wars[ranking].mean().plot.bar()\n",
    "bargraph.set_title(\"Mean Ranking of Star Wars Movies\") \n",
    "bargraph.set_xticklabels(movies)\n",
    "bargraph.set_xlabel(\"Movie\")\n",
    "bargraph.set_ylabel(\"Mean Rank\")\n",
    "plt.show()"
   ]
  },
  {
   "cell_type": "markdown",
   "metadata": {
    "collapsed": true
   },
   "source": [
    "#### Highest ranked movies\n",
    "\n",
    "Since a rank of 1 means that people like the movie the most in the series compared to a rank of 6 which means people like it the least the plot shows that more people were enthusiatics abot episodes V and VI compared to episodes I-III in the franchise."
   ]
  },
  {
   "cell_type": "code",
   "execution_count": 47,
   "metadata": {
    "collapsed": false
   },
   "outputs": [
    {
     "data": {
      "text/plain": [
       "<matplotlib.text.Text at 0x2a2da3dec50>"
      ]
     },
     "execution_count": 47,
     "metadata": {},
     "output_type": "execute_result"
    },
    {
     "data": {
      "text/plain": [
       "<matplotlib.text.Text at 0x2a2d8998e10>"
      ]
     },
     "execution_count": 47,
     "metadata": {},
     "output_type": "execute_result"
    },
    {
     "data": {
      "text/plain": [
       "<matplotlib.text.Text at 0x2a2da398240>"
      ]
     },
     "execution_count": 47,
     "metadata": {},
     "output_type": "execute_result"
    },
    {
     "data": {
      "image/png": "[encoded data removed]",
      "text/plain": [
       "<matplotlib.figure.Figure at 0x2a2da3939e8>"
      ]
     },
     "metadata": {},
     "output_type": "display_data"
    }
   ],
   "source": [
    "#Finding the most seen movies\n",
    "\n",
    "bargraph = star_wars[star_wars.columns[3:9]].sum().plot.bar()\n",
    "bargraph.set_title(\"Number of People that Have Seen Each Star Wars Movies\")\n",
    "bargraph.set_xlabel(\"Movie\")\n",
    "bargraph.set_ylabel(\"Number\")\n"
   ]
  },
  {
   "cell_type": "markdown",
   "metadata": {},
   "source": [
    "### Number of people seeing Star Wars\n",
    "\n",
    "The below "
   ]
  },
  {
   "cell_type": "code",
   "execution_count": 49,
   "metadata": {
    "collapsed": false
   },
   "outputs": [
    {
     "data": {
      "text/plain": [
       "<matplotlib.text.Text at 0x2a2da729710>"
      ]
     },
     "execution_count": 49,
     "metadata": {},
     "output_type": "execute_result"
    },
    {
     "data": {
      "text/plain": [
       "[<matplotlib.text.Text at 0x2a2da7241d0>,\n",
       " <matplotlib.text.Text at 0x2a2da729048>,\n",
       " <matplotlib.text.Text at 0x2a2da77b198>,\n",
       " <matplotlib.text.Text at 0x2a2da77bb70>,\n",
       " <matplotlib.text.Text at 0x2a2da7802b0>,\n",
       " <matplotlib.text.Text at 0x2a2da780c88>]"
      ]
     },
     "execution_count": 49,
     "metadata": {},
     "output_type": "execute_result"
    },
    {
     "data": {
      "text/plain": [
       "<matplotlib.text.Text at 0x2a2da6c7320>"
      ]
     },
     "execution_count": 49,
     "metadata": {},
     "output_type": "execute_result"
    },
    {
     "data": {
      "text/plain": [
       "<matplotlib.text.Text at 0x2a2da70a940>"
      ]
     },
     "execution_count": 49,
     "metadata": {},
     "output_type": "execute_result"
    },
    {
     "data": {
      "image/png": "[encoded data removed]",
      "text/plain": [
       "<matplotlib.figure.Figure at 0x2a2da67ff28>"
      ]
     },
     "metadata": {},
     "output_type": "display_data"
    },
    {
     "data": {
      "text/plain": [
       "<matplotlib.text.Text at 0x2a2da7ce5c0>"
      ]
     },
     "execution_count": 49,
     "metadata": {},
     "output_type": "execute_result"
    },
    {
     "data": {
      "text/plain": [
       "[<matplotlib.text.Text at 0x2a2da75c358>,\n",
       " <matplotlib.text.Text at 0x2a2da7c90f0>,\n",
       " <matplotlib.text.Text at 0x2a2da818c18>,\n",
       " <matplotlib.text.Text at 0x2a2da81f630>,\n",
       " <matplotlib.text.Text at 0x2a2da823048>,\n",
       " <matplotlib.text.Text at 0x2a2da823a20>]"
      ]
     },
     "execution_count": 49,
     "metadata": {},
     "output_type": "execute_result"
    },
    {
     "data": {
      "text/plain": [
       "<matplotlib.text.Text at 0x2a2da66c4a8>"
      ]
     },
     "execution_count": 49,
     "metadata": {},
     "output_type": "execute_result"
    },
    {
     "data": {
      "text/plain": [
       "<matplotlib.text.Text at 0x2a2da6eae48>"
      ]
     },
     "execution_count": 49,
     "metadata": {},
     "output_type": "execute_result"
    },
    {
     "data": {
      "image/png": "[encoded data removed]",
      "text/plain": [
       "<matplotlib.figure.Figure at 0x2a2da77bfd0>"
      ]
     },
     "metadata": {},
     "output_type": "display_data"
    },
    {
     "data": {
      "text/plain": [
       "<matplotlib.text.Text at 0x2a2da878c88>"
      ]
     },
     "execution_count": 49,
     "metadata": {},
     "output_type": "execute_result"
    },
    {
     "data": {
      "text/plain": [
       "<matplotlib.text.Text at 0x2a2da774dd8>"
      ]
     },
     "execution_count": 49,
     "metadata": {},
     "output_type": "execute_result"
    },
    {
     "data": {
      "text/plain": [
       "<matplotlib.text.Text at 0x2a2da818f98>"
      ]
     },
     "execution_count": 49,
     "metadata": {},
     "output_type": "execute_result"
    },
    {
     "data": {
      "image/png": "[encoded data removed]",
      "text/plain": [
       "<matplotlib.figure.Figure at 0x2a2da647710>"
      ]
     },
     "metadata": {},
     "output_type": "display_data"
    },
    {
     "data": {
      "text/plain": [
       "<matplotlib.text.Text at 0x2a2da91bcf8>"
      ]
     },
     "execution_count": 49,
     "metadata": {},
     "output_type": "execute_result"
    },
    {
     "data": {
      "text/plain": [
       "<matplotlib.text.Text at 0x2a2da83d198>"
      ]
     },
     "execution_count": 49,
     "metadata": {},
     "output_type": "execute_result"
    },
    {
     "data": {
      "text/plain": [
       "<matplotlib.text.Text at 0x2a2da857080>"
      ]
     },
     "execution_count": 49,
     "metadata": {},
     "output_type": "execute_result"
    },
    {
     "data": {
      "image/png": "[encoded data removed]",
      "text/plain": [
       "<matplotlib.figure.Figure at 0x2a2da8d6978>"
      ]
     },
     "metadata": {},
     "output_type": "display_data"
    }
   ],
   "source": [
    "qs = \"Do you consider yourself to be a fan of the Star Wars film franchise?\"\n",
    "fan = star_wars[star_wars[qs] == True]\n",
    "not_fan = star_wars[star_wars[qs] == False]\n",
    "\n",
    "bargraph = fan[ranking].mean().plot.bar()\n",
    "bargraph.set_title(\"Mean Ranking of Star Wars Movies (Fan)\")\n",
    "bargraph.set_xticklabels(movies)\n",
    "bargraph.set_xlabel(\"Movie\")\n",
    "bargraph.set_ylabel(\"Mean Rank\")\n",
    "plt.show()\n",
    "\n",
    "bargraph = not_fan[ranking].mean().plot.bar()\n",
    "bargraph.set_title(\"Mean Ranking of Star Wars Movies (Not Fan)\")\n",
    "bargraph.set_xticklabels(movies)\n",
    "bargraph.set_xlabel(\"Movie\")\n",
    "bargraph.set_ylabel(\"Mean Rank\")\n",
    "plt.show()\n",
    "\n",
    "bargraph = fan[fan.columns[3:9]].sum().plot.bar()\n",
    "bargraph.set_title(\"Number of People that Have Seen Each Star Wars Movies (Fan)\")\n",
    "bargraph.set_xlabel(\"Movie\")\n",
    "bargraph.set_ylabel(\"Number\")\n",
    "plt.show()\n",
    "\n",
    "bargraph = not_fan[not_fan.columns[3:9]].sum().plot.bar()\n",
    "bargraph.set_title(\"Number of People that Have Seen Each Star Wars Movies (Not Fan)\")\n",
    "bargraph.set_xlabel(\"Movie\")\n",
    "bargraph.set_ylabel(\"Number\")\n",
    "plt.show()"
   ]
  },
  {
   "cell_type": "markdown",
   "metadata": {},
   "source": [
    "### Splitting Groups into Fans and Not Fans\n",
    "\n",
    "If we split the groups.  What we find is that people that consider themselves\n",
    "fans of the star wars franchise are much more likely to rank the episodes IV-VI higher than the later films episodes I-III.  This difference is less park for people that do not consider themselves fans of the franchise.  Moreover fans of the franchise tend to have consistently seen all of the movies while non-fans were more likely to have seen the earlier movies (episodes IV-VI) compared ot the later ones.\n"
   ]
  },
  {
   "cell_type": "code",
   "execution_count": 51,
   "metadata": {
    "collapsed": false
   },
   "outputs": [
    {
     "name": "stdout",
     "output_type": "stream",
     "text": [
      "Female    549\n",
      "Male      497\n",
      "Name: Gender, dtype: int64\n",
      "45-60    291\n",
      "> 60     269\n",
      "30-44    268\n",
      "18-29    218\n",
      "Name: Age, dtype: int64\n",
      "$50,000 - $99,999      298\n",
      "$25,000 - $49,999      186\n",
      "$100,000 - $149,999    141\n",
      "$0 - $24,999           138\n",
      "$150,000+               95\n",
      "Name: Household Income, dtype: int64\n",
      "Some college or Associate degree    328\n",
      "Bachelor degree                     321\n",
      "Graduate degree                     275\n",
      "High school degree                  105\n",
      "Less than high school degree          7\n",
      "Name: Education, dtype: int64\n",
      "East North Central    181\n",
      "Pacific               175\n",
      "South Atlantic        170\n",
      "Middle Atlantic       122\n",
      "West South Central    110\n",
      "West North Central     93\n",
      "Mountain               79\n",
      "New England            75\n",
      "East South Central     38\n",
      "Name: Location (Census Region), dtype: int64\n"
     ]
    }
   ],
   "source": [
    "#Lets look at how the data compares to the population.  Segment the data by columns like Education, Location (Census)\n",
    "print(star_wars[\"Gender\"].value_counts())\n",
    "print(star_wars[\"Age\"].value_counts())\n",
    "print(star_wars[\"Household Income\"].value_counts())\n",
    "print(star_wars[\"Education\"].value_counts())\n",
    "print(star_wars[\"Location (Census Region)\"].value_counts())\n"
   ]
  },
  {
   "cell_type": "markdown",
   "metadata": {},
   "source": [
    "#### Analysis of demographic chracteristics\n",
    "\n",
    "The analysis shows some interesting patters first. A higher proportion of females, older age groups, and more educated people answered the survey.  A disproportionately high share of respondents also come from the higher income groups (as the mean income of the US is < $50,000)."
   ]
  },
  {
   "cell_type": "markdown",
   "metadata": {},
   "source": [
    "## Conclusions\n",
    "\n",
    "The demographic distribution of respondents points to the potential problem of using this data to extrapolate to the wider American population set without using a process to correct for the selected sample.  However, of this respondent set it indicates that the earlier movies (episodes IV-VI) were far more popular than the later movies and were also seen by a much larger set of the population whether they were fans or non-fans of the franchise."
   ]
  },
  {
   "cell_type": "code",
   "execution_count": null,
   "metadata": {
    "collapsed": true
   },
   "outputs": [],
   "source": []
  }
 ],
 "metadata": {
  "kernelspec": {
   "display_name": "Python 3",
   "language": "python",
   "name": "python3"
  },
  "language_info": {
   "codemirror_mode": {
    "name": "ipython",
    "version": 3
   },
   "file_extension": ".py",
   "mimetype": "text/x-python",
   "name": "python",
   "nbconvert_exporter": "python",
   "pygments_lexer": "ipython3",
   "version": "3.6.0"
  }
 },
 "nbformat": 4,
 "nbformat_minor": 0
}
